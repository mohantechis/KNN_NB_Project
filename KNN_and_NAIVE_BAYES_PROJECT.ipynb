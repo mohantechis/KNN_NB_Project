{
  "nbformat": 4,
  "nbformat_minor": 0,
  "metadata": {
    "colab": {
      "name": "KNN and NAIVE BAYES PROJECT",
      "provenance": [],
      "collapsed_sections": []
    },
    "kernelspec": {
      "name": "python3",
      "display_name": "Python 3"
    },
    "language_info": {
      "name": "python"
    }
  },
  "cells": [
    {
      "cell_type": "markdown",
      "metadata": {
        "id": "PW0Anio_SY8k"
      },
      "source": [
        "Biomechanical Features of Orthopedic Patients PRoject "
      ]
    },
    {
      "cell_type": "markdown",
      "metadata": {
        "id": "tAGjoStafCYw"
      },
      "source": [
        "Loading The Data\n"
      ]
    },
    {
      "cell_type": "code",
      "metadata": {
        "id": "MjozoZQcfTAK"
      },
      "source": [
        "import numpy as np\n",
        "import pandas as pd\n",
        "import matplotlib.pyplot as plt\n",
        "import seaborn as sns\n",
        "\n"
      ],
      "execution_count": null,
      "outputs": []
    },
    {
      "cell_type": "markdown",
      "metadata": {
        "id": "EPkxQ51MhtJv"
      },
      "source": [
        "Make a pandas DataFrame from the CSV"
      ]
    },
    {
      "cell_type": "code",
      "metadata": {
        "id": "la5yJcl8SITy"
      },
      "source": [
        "df=pd.read_csv(\"/content/ortho_knnnb.csv\")"
      ],
      "execution_count": null,
      "outputs": []
    },
    {
      "cell_type": "code",
      "metadata": {
        "colab": {
          "base_uri": "https://localhost:8080/"
        },
        "id": "JamSagj2huLk",
        "outputId": "f8d3abee-cad8-4227-9d49-a88149f9286a"
      },
      "source": [
        "print(\"This Dataset has\" ,df.shape[0],\"Rows\")\n",
        "print(\"This Dataset has\" ,df.shape[1],\"Columns\")"
      ],
      "execution_count": null,
      "outputs": [
        {
          "output_type": "stream",
          "name": "stdout",
          "text": [
            "This Dataset has 310 Rows\n",
            "This Dataset has 7 Columns\n"
          ]
        }
      ]
    },
    {
      "cell_type": "code",
      "metadata": {
        "colab": {
          "base_uri": "https://localhost:8080/",
          "height": 243
        },
        "id": "pkDZhNTCiFEy",
        "outputId": "af48ce57-29a8-46fa-97b5-72e271809cc2"
      },
      "source": [
        "df.head()"
      ],
      "execution_count": null,
      "outputs": [
        {
          "output_type": "execute_result",
          "data": {
            "text/html": [
              "<div>\n",
              "<style scoped>\n",
              "    .dataframe tbody tr th:only-of-type {\n",
              "        vertical-align: middle;\n",
              "    }\n",
              "\n",
              "    .dataframe tbody tr th {\n",
              "        vertical-align: top;\n",
              "    }\n",
              "\n",
              "    .dataframe thead th {\n",
              "        text-align: right;\n",
              "    }\n",
              "</style>\n",
              "<table border=\"1\" class=\"dataframe\">\n",
              "  <thead>\n",
              "    <tr style=\"text-align: right;\">\n",
              "      <th></th>\n",
              "      <th>pelvic_incidence</th>\n",
              "      <th>pelvic_tilt numeric</th>\n",
              "      <th>lumbar_lordosis_angle</th>\n",
              "      <th>sacral_slope</th>\n",
              "      <th>pelvic_radius</th>\n",
              "      <th>degree_spondylolisthesis</th>\n",
              "      <th>class</th>\n",
              "    </tr>\n",
              "  </thead>\n",
              "  <tbody>\n",
              "    <tr>\n",
              "      <th>0</th>\n",
              "      <td>63.027818</td>\n",
              "      <td>22.552586</td>\n",
              "      <td>39.609117</td>\n",
              "      <td>40.475232</td>\n",
              "      <td>98.672917</td>\n",
              "      <td>-0.254400</td>\n",
              "      <td>Abnormal</td>\n",
              "    </tr>\n",
              "    <tr>\n",
              "      <th>1</th>\n",
              "      <td>39.056951</td>\n",
              "      <td>10.060991</td>\n",
              "      <td>25.015378</td>\n",
              "      <td>28.995960</td>\n",
              "      <td>114.405425</td>\n",
              "      <td>4.564259</td>\n",
              "      <td>Abnormal</td>\n",
              "    </tr>\n",
              "    <tr>\n",
              "      <th>2</th>\n",
              "      <td>68.832021</td>\n",
              "      <td>22.218482</td>\n",
              "      <td>50.092194</td>\n",
              "      <td>46.613539</td>\n",
              "      <td>105.985135</td>\n",
              "      <td>-3.530317</td>\n",
              "      <td>Abnormal</td>\n",
              "    </tr>\n",
              "    <tr>\n",
              "      <th>3</th>\n",
              "      <td>69.297008</td>\n",
              "      <td>24.652878</td>\n",
              "      <td>44.311238</td>\n",
              "      <td>44.644130</td>\n",
              "      <td>101.868495</td>\n",
              "      <td>11.211523</td>\n",
              "      <td>Abnormal</td>\n",
              "    </tr>\n",
              "    <tr>\n",
              "      <th>4</th>\n",
              "      <td>49.712859</td>\n",
              "      <td>9.652075</td>\n",
              "      <td>28.317406</td>\n",
              "      <td>40.060784</td>\n",
              "      <td>108.168725</td>\n",
              "      <td>7.918501</td>\n",
              "      <td>Abnormal</td>\n",
              "    </tr>\n",
              "  </tbody>\n",
              "</table>\n",
              "</div>"
            ],
            "text/plain": [
              "   pelvic_incidence  pelvic_tilt numeric  ...  degree_spondylolisthesis     class\n",
              "0         63.027818            22.552586  ...                 -0.254400  Abnormal\n",
              "1         39.056951            10.060991  ...                  4.564259  Abnormal\n",
              "2         68.832021            22.218482  ...                 -3.530317  Abnormal\n",
              "3         69.297008            24.652878  ...                 11.211523  Abnormal\n",
              "4         49.712859             9.652075  ...                  7.918501  Abnormal\n",
              "\n",
              "[5 rows x 7 columns]"
            ]
          },
          "metadata": {},
          "execution_count": 18
        }
      ]
    },
    {
      "cell_type": "markdown",
      "metadata": {
        "id": "mbeh1mlZiW-V"
      },
      "source": [
        "This Data is Record of Multiple Instances of orthopedic Parameters and we have the Classification as Normal And Abnormal"
      ]
    },
    {
      "cell_type": "markdown",
      "metadata": {
        "id": "1MBf6Lv1i8ZE"
      },
      "source": [
        "on the Basis of Orthopdic Parameters we will predict the A patient is Normal or Have Paget's Disease "
      ]
    },
    {
      "cell_type": "markdown",
      "metadata": {
        "id": "KVx0NMs-jacs"
      },
      "source": [
        "# EDA"
      ]
    },
    {
      "cell_type": "code",
      "metadata": {
        "colab": {
          "base_uri": "https://localhost:8080/"
        },
        "id": "xeepMSxgib4h",
        "outputId": "0989d2b5-3a09-4ea4-d05b-550ec0337e1d"
      },
      "source": [
        "df.isnull().sum()"
      ],
      "execution_count": null,
      "outputs": [
        {
          "output_type": "execute_result",
          "data": {
            "text/plain": [
              "pelvic_incidence            0\n",
              "pelvic_tilt numeric         0\n",
              "lumbar_lordosis_angle       0\n",
              "sacral_slope                0\n",
              "pelvic_radius               0\n",
              "degree_spondylolisthesis    0\n",
              "class                       0\n",
              "dtype: int64"
            ]
          },
          "metadata": {},
          "execution_count": 19
        }
      ]
    },
    {
      "cell_type": "code",
      "metadata": {
        "colab": {
          "base_uri": "https://localhost:8080/"
        },
        "id": "Jce533KqrOXg",
        "outputId": "0af4b13d-675b-43b2-fc73-43a8af2ce911"
      },
      "source": [
        "df['class'].value_counts()"
      ],
      "execution_count": null,
      "outputs": [
        {
          "output_type": "execute_result",
          "data": {
            "text/plain": [
              "Abnormal    210\n",
              "Normal      100\n",
              "Name: class, dtype: int64"
            ]
          },
          "metadata": {},
          "execution_count": 20
        }
      ]
    },
    {
      "cell_type": "code",
      "metadata": {
        "colab": {
          "base_uri": "https://localhost:8080/",
          "height": 296
        },
        "id": "4moiKBCssD3X",
        "outputId": "8d8bd856-f972-4746-fe15-6658eea0f7c8"
      },
      "source": [
        "sns.countplot(x='class',data=df)"
      ],
      "execution_count": null,
      "outputs": [
        {
          "output_type": "execute_result",
          "data": {
            "text/plain": [
              "<matplotlib.axes._subplots.AxesSubplot at 0x7f047e5bba10>"
            ]
          },
          "metadata": {},
          "execution_count": 21
        },
        {
          "output_type": "display_data",
          "data": {
            "image/png": "[encoded data removed]",
            "text/plain": [
              "<Figure size 432x288 with 1 Axes>"
            ]
          },
          "metadata": {
            "needs_background": "light"
          }
        }
      ]
    },
    {
      "cell_type": "code",
      "metadata": {
        "id": "LvbaRGV7llsj",
        "colab": {
          "base_uri": "https://localhost:8080/",
          "height": 274
        },
        "outputId": "d40bd8db-606d-49c9-d6da-34f0087360c9"
      },
      "source": [
        "corr=df.corr()\n",
        "corr"
      ],
      "execution_count": null,
      "outputs": [
        {
          "output_type": "execute_result",
          "data": {
            "text/html": [
              "<div>\n",
              "<style scoped>\n",
              "    .dataframe tbody tr th:only-of-type {\n",
              "        vertical-align: middle;\n",
              "    }\n",
              "\n",
              "    .dataframe tbody tr th {\n",
              "        vertical-align: top;\n",
              "    }\n",
              "\n",
              "    .dataframe thead th {\n",
              "        text-align: right;\n",
              "    }\n",
              "</style>\n",
              "<table border=\"1\" class=\"dataframe\">\n",
              "  <thead>\n",
              "    <tr style=\"text-align: right;\">\n",
              "      <th></th>\n",
              "      <th>pelvic_incidence</th>\n",
              "      <th>pelvic_tilt numeric</th>\n",
              "      <th>lumbar_lordosis_angle</th>\n",
              "      <th>sacral_slope</th>\n",
              "      <th>pelvic_radius</th>\n",
              "      <th>degree_spondylolisthesis</th>\n",
              "    </tr>\n",
              "  </thead>\n",
              "  <tbody>\n",
              "    <tr>\n",
              "      <th>pelvic_incidence</th>\n",
              "      <td>1.000000</td>\n",
              "      <td>0.629199</td>\n",
              "      <td>0.717282</td>\n",
              "      <td>0.814960</td>\n",
              "      <td>-0.247467</td>\n",
              "      <td>0.638743</td>\n",
              "    </tr>\n",
              "    <tr>\n",
              "      <th>pelvic_tilt numeric</th>\n",
              "      <td>0.629199</td>\n",
              "      <td>1.000000</td>\n",
              "      <td>0.432764</td>\n",
              "      <td>0.062345</td>\n",
              "      <td>0.032668</td>\n",
              "      <td>0.397862</td>\n",
              "    </tr>\n",
              "    <tr>\n",
              "      <th>lumbar_lordosis_angle</th>\n",
              "      <td>0.717282</td>\n",
              "      <td>0.432764</td>\n",
              "      <td>1.000000</td>\n",
              "      <td>0.598387</td>\n",
              "      <td>-0.080344</td>\n",
              "      <td>0.533667</td>\n",
              "    </tr>\n",
              "    <tr>\n",
              "      <th>sacral_slope</th>\n",
              "      <td>0.814960</td>\n",
              "      <td>0.062345</td>\n",
              "      <td>0.598387</td>\n",
              "      <td>1.000000</td>\n",
              "      <td>-0.342128</td>\n",
              "      <td>0.523557</td>\n",
              "    </tr>\n",
              "    <tr>\n",
              "      <th>pelvic_radius</th>\n",
              "      <td>-0.247467</td>\n",
              "      <td>0.032668</td>\n",
              "      <td>-0.080344</td>\n",
              "      <td>-0.342128</td>\n",
              "      <td>1.000000</td>\n",
              "      <td>-0.026065</td>\n",
              "    </tr>\n",
              "    <tr>\n",
              "      <th>degree_spondylolisthesis</th>\n",
              "      <td>0.638743</td>\n",
              "      <td>0.397862</td>\n",
              "      <td>0.533667</td>\n",
              "      <td>0.523557</td>\n",
              "      <td>-0.026065</td>\n",
              "      <td>1.000000</td>\n",
              "    </tr>\n",
              "  </tbody>\n",
              "</table>\n",
              "</div>"
            ],
            "text/plain": [
              "                          pelvic_incidence  ...  degree_spondylolisthesis\n",
              "pelvic_incidence                  1.000000  ...                  0.638743\n",
              "pelvic_tilt numeric               0.629199  ...                  0.397862\n",
              "lumbar_lordosis_angle             0.717282  ...                  0.533667\n",
              "sacral_slope                      0.814960  ...                  0.523557\n",
              "pelvic_radius                    -0.247467  ...                 -0.026065\n",
              "degree_spondylolisthesis          0.638743  ...                  1.000000\n",
              "\n",
              "[6 rows x 6 columns]"
            ]
          },
          "metadata": {},
          "execution_count": 22
        }
      ]
    },
    {
      "cell_type": "markdown",
      "metadata": {
        "id": "y88FvVyomLoI"
      },
      "source": [
        "Outlier Analysis"
      ]
    },
    {
      "cell_type": "code",
      "metadata": {
        "colab": {
          "base_uri": "https://localhost:8080/",
          "height": 570
        },
        "id": "tCvRwiVnmNgE",
        "outputId": "69ca75d2-4152-4c0a-aa80-ecc41165689c"
      },
      "source": [
        "print(\"Outlier Analysis: \")\n",
        "plt.figure(figsize=(9,9))\n",
        "plt.boxplot(df['pelvic_incidence'])\n",
        "plt.title(\"Pelvic Incidence \")\n",
        "plt.show()"
      ],
      "execution_count": null,
      "outputs": [
        {
          "output_type": "stream",
          "name": "stdout",
          "text": [
            "Outlier Analysis: \n"
          ]
        },
        {
          "output_type": "display_data",
          "data": {
            "image/png": "[encoded data removed]",
            "text/plain": [
              "<Figure size 648x648 with 1 Axes>"
            ]
          },
          "metadata": {
            "needs_background": "light"
          }
        }
      ]
    },
    {
      "cell_type": "code",
      "metadata": {
        "colab": {
          "base_uri": "https://localhost:8080/",
          "height": 570
        },
        "id": "Ka6cSPBOlqv-",
        "outputId": "4b42c5d7-0422-443e-c747-e9720a3f67e8"
      },
      "source": [
        "print(\"Outlier Analysis: \")\n",
        "plt.figure(figsize=(9,9))\n",
        "plt.boxplot(df['pelvic_tilt numeric'])\n",
        "plt.title(\"pelvic_tilt numeric \")\n",
        "plt.show()"
      ],
      "execution_count": null,
      "outputs": [
        {
          "output_type": "stream",
          "name": "stdout",
          "text": [
            "Outlier Analysis: \n"
          ]
        },
        {
          "output_type": "display_data",
          "data": {
            "image/png": "[encoded data removed]",
            "text/plain": [
              "<Figure size 648x648 with 1 Axes>"
            ]
          },
          "metadata": {
            "needs_background": "light"
          }
        }
      ]
    },
    {
      "cell_type": "code",
      "metadata": {
        "colab": {
          "base_uri": "https://localhost:8080/",
          "height": 570
        },
        "id": "5QOcbq7ookxa",
        "outputId": "4f515cf0-d8fc-449d-dbfb-578c9c1f94ee"
      },
      "source": [
        "print(\"Outlier Analysis: \")\n",
        "plt.figure(figsize=(9,9))\n",
        "plt.boxplot(df['lumbar_lordosis_angle'])\n",
        "plt.title(\"lumbar_lordosis_angle \")\n",
        "plt.show()"
      ],
      "execution_count": null,
      "outputs": [
        {
          "output_type": "stream",
          "name": "stdout",
          "text": [
            "Outlier Analysis: \n"
          ]
        },
        {
          "output_type": "display_data",
          "data": {
            "image/png": "[encoded data removed]",
            "text/plain": [
              "<Figure size 648x648 with 1 Axes>"
            ]
          },
          "metadata": {
            "needs_background": "light"
          }
        }
      ]
    },
    {
      "cell_type": "code",
      "metadata": {
        "colab": {
          "base_uri": "https://localhost:8080/",
          "height": 570
        },
        "id": "WSBoaYmHpBK5",
        "outputId": "50a51e5a-8260-415d-da0b-be197b2c548c"
      },
      "source": [
        "print(\"Outlier Analysis: \")\n",
        "plt.figure(figsize=(9,9))\n",
        "plt.boxplot(df['sacral_slope'])\n",
        "plt.title(\"sacral_slope \")\n",
        "plt.show()"
      ],
      "execution_count": null,
      "outputs": [
        {
          "output_type": "stream",
          "name": "stdout",
          "text": [
            "Outlier Analysis: \n"
          ]
        },
        {
          "output_type": "display_data",
          "data": {
            "image/png": "[encoded data removed]",
            "text/plain": [
              "<Figure size 648x648 with 1 Axes>"
            ]
          },
          "metadata": {
            "needs_background": "light"
          }
        }
      ]
    },
    {
      "cell_type": "code",
      "metadata": {
        "colab": {
          "base_uri": "https://localhost:8080/",
          "height": 397
        },
        "id": "BIdhjkh_psfU",
        "outputId": "86a7ab99-e794-4e38-cc1f-269a2a9d56d0"
      },
      "source": [
        "sns.heatmap(corr,annot=True,cmap='coolwarm')\n",
        "plt.title(\"Correlation Between Features\")\n",
        "plt.show()"
      ],
      "execution_count": null,
      "outputs": [
        {
          "output_type": "display_data",
          "data": {
            "image/png": "[encoded data removed]",
            "text/plain": [
              "<Figure size 432x288 with 2 Axes>"
            ]
          },
          "metadata": {
            "needs_background": "light"
          }
        }
      ]
    },
    {
      "cell_type": "markdown",
      "metadata": {
        "id": "snaJtDqAQigO"
      },
      "source": [
        "Preparing Dataframe to be Trained"
      ]
    },
    {
      "cell_type": "code",
      "metadata": {
        "id": "QXfbgEslukKo"
      },
      "source": [
        "data_class=df['class'].replace({'Abnormal':0,'Normal':1})\n",
        "X=df.drop([\"class\"],axis=1)\n",
        "y=data_class.values"
      ],
      "execution_count": null,
      "outputs": []
    },
    {
      "cell_type": "markdown",
      "metadata": {
        "id": "StvqHfMsSwEq"
      },
      "source": [
        "Training The KNN Model and Predicting"
      ]
    },
    {
      "cell_type": "code",
      "metadata": {
        "id": "f1BJvhj3SzZb"
      },
      "source": [
        "from sklearn.model_selection import train_test_split\n",
        "from sklearn.metrics import accuracy_score\n",
        "X_train,X_test,y_train,y_test=train_test_split(X,y,train_size=0.7)\n",
        "from sklearn.neighbors import KNeighborsClassifier \n",
        "\n",
        "  "
      ],
      "execution_count": null,
      "outputs": []
    },
    {
      "cell_type": "code",
      "metadata": {
        "colab": {
          "base_uri": "https://localhost:8080/"
        },
        "id": "ewDWQfsmZg0e",
        "outputId": "372f6a08-7fc9-49c6-e9e2-bb942369aec5"
      },
      "source": [
        "print(\"Dimension of Train X\",X_train.shape)\n",
        "print(\"Dimension of Train Y\",y_train.shape)\n",
        "print(\"Dimension of Test X\",X_test.shape)\n",
        "print(\"Dimension of Test y\",y_test.shape)"
      ],
      "execution_count": null,
      "outputs": [
        {
          "output_type": "stream",
          "name": "stdout",
          "text": [
            "Dimension of Train X (217, 6)\n",
            "Dimension of Train Y (217,)\n",
            "Dimension of Test X (93, 6)\n",
            "Dimension of Test y (93,)\n"
          ]
        }
      ]
    },
    {
      "cell_type": "code",
      "metadata": {
        "colab": {
          "base_uri": "https://localhost:8080/"
        },
        "id": "ZOKaZpqqY9Y9",
        "outputId": "7ac1f373-a33a-470f-f168-ffeb67776000"
      },
      "source": [
        "train_accuracy=[]\n",
        "test_accuracy=[]\n",
        "for k in range(3, 10):\n",
        "\n",
        "  knn=KNeighborsClassifier(n_neighbors=k)\n",
        "  knn.fit(X_train,y_train)\n",
        "  train_pred=knn.predict(X_train)\n",
        "  train_score=accuracy_score(train_pred,y_train)\n",
        "  test_pred= knn.predict(X_test)\n",
        "  test_score=(round(accuracy_score(test_pred,y_test)*100,2))\n",
        "  \n",
        "  test_accuracy.append(test_score)\n",
        "\n",
        " \n",
        "  print(\"Test Accuracy: \",test_score,\"Value of K: \",k)\n",
        "#print(\"Best Accuracy is {}% with K={}\".format(max(test_accuracy),1+test_accuracy.index(max(test_accuracy))))\n"
      ],
      "execution_count": null,
      "outputs": [
        {
          "output_type": "stream",
          "name": "stdout",
          "text": [
            "Test Accuracy:  86.02 Value of K:  3\n",
            "Test Accuracy:  84.95 Value of K:  4\n",
            "Test Accuracy:  83.87 Value of K:  5\n",
            "Test Accuracy:  83.87 Value of K:  6\n",
            "Test Accuracy:  84.95 Value of K:  7\n",
            "Test Accuracy:  82.8 Value of K:  8\n",
            "Test Accuracy:  87.1 Value of K:  9\n"
          ]
        }
      ]
    },
    {
      "cell_type": "code",
      "metadata": {
        "colab": {
          "base_uri": "https://localhost:8080/"
        },
        "id": "ZXI0RiNWbYbZ",
        "outputId": "00e1ec3a-e2ff-432f-9076-71f665209a97"
      },
      "source": [
        "print(\"Best Accuracy is {}% with Value of K={}\".format(max(test_accuracy),3+test_accuracy.index(max(test_accuracy))))"
      ],
      "execution_count": null,
      "outputs": [
        {
          "output_type": "stream",
          "name": "stdout",
          "text": [
            "Best Accuracy is 87.1% with Value of K=9\n"
          ]
        }
      ]
    },
    {
      "cell_type": "markdown",
      "metadata": {
        "id": "u2revO1DcqQz"
      },
      "source": [
        "# Training with Naive Bayes"
      ]
    },
    {
      "cell_type": "code",
      "metadata": {
        "colab": {
          "base_uri": "https://localhost:8080/"
        },
        "id": "Ts_a3XkmfVCd",
        "outputId": "1022f078-6111-4c59-ee3c-ee55d83d84c5"
      },
      "source": [
        "from sklearn.naive_bayes import GaussianNB\n",
        "nvclassifier=GaussianNB()\n",
        "nvclassifier.fit(X_train,y_train)"
      ],
      "execution_count": null,
      "outputs": [
        {
          "output_type": "execute_result",
          "data": {
            "text/plain": [
              "GaussianNB(priors=None, var_smoothing=1e-09)"
            ]
          },
          "metadata": {},
          "execution_count": 31
        }
      ]
    },
    {
      "cell_type": "code",
      "metadata": {
        "colab": {
          "base_uri": "https://localhost:8080/"
        },
        "id": "UQxXYOhyq62y",
        "outputId": "bfee67b0-7d4f-4291-a9bb-1ce5cb5a43f6"
      },
      "source": [
        "#predicting the Test Set Results\n",
        "y_pred=nvclassifier.predict(X_test)\n",
        "print(y_pred)\n"
      ],
      "execution_count": 53,
      "outputs": [
        {
          "output_type": "stream",
          "name": "stdout",
          "text": [
            "[0 0 0 0 0 1 1 1 1 1 1 0 1 1 1 1 0 1 1 1 1 0 0 0 1 0 1 0 0 1 0 1 1 0 1 1 0\n",
            " 0 0 1 0 0 1 1 1 0 0 0 1 0 1 1 1 0 0 1 0 0 0 0 0 1 0 0 0 0 1 1 0 1 0 1 0 1\n",
            " 1 1 1 1 1 1 0 1 1 0 1 1 1 0 0 1 0 1 1]\n"
          ]
        }
      ]
    },
    {
      "cell_type": "code",
      "metadata": {
        "colab": {
          "base_uri": "https://localhost:8080/",
          "height": 243
        },
        "id": "pQX5k3lifcvV",
        "outputId": "8775f8da-aac5-493d-cd3e-4e87f3b838e6"
      },
      "source": [
        "test=X_test.reset_index(drop=True)\n",
        "test[\"PRED_class\"]=y_pred\n",
        "test.head()"
      ],
      "execution_count": 61,
      "outputs": [
        {
          "output_type": "execute_result",
          "data": {
            "text/html": [
              "<div>\n",
              "<style scoped>\n",
              "    .dataframe tbody tr th:only-of-type {\n",
              "        vertical-align: middle;\n",
              "    }\n",
              "\n",
              "    .dataframe tbody tr th {\n",
              "        vertical-align: top;\n",
              "    }\n",
              "\n",
              "    .dataframe thead th {\n",
              "        text-align: right;\n",
              "    }\n",
              "</style>\n",
              "<table border=\"1\" class=\"dataframe\">\n",
              "  <thead>\n",
              "    <tr style=\"text-align: right;\">\n",
              "      <th></th>\n",
              "      <th>pelvic_incidence</th>\n",
              "      <th>pelvic_tilt numeric</th>\n",
              "      <th>lumbar_lordosis_angle</th>\n",
              "      <th>sacral_slope</th>\n",
              "      <th>pelvic_radius</th>\n",
              "      <th>degree_spondylolisthesis</th>\n",
              "      <th>class</th>\n",
              "      <th>PRED_class</th>\n",
              "    </tr>\n",
              "  </thead>\n",
              "  <tbody>\n",
              "    <tr>\n",
              "      <th>0</th>\n",
              "      <td>64.809541</td>\n",
              "      <td>15.174078</td>\n",
              "      <td>58.839994</td>\n",
              "      <td>49.635463</td>\n",
              "      <td>111.679961</td>\n",
              "      <td>21.407198</td>\n",
              "      <td>0</td>\n",
              "      <td>0</td>\n",
              "    </tr>\n",
              "    <tr>\n",
              "      <th>1</th>\n",
              "      <td>69.563486</td>\n",
              "      <td>15.401139</td>\n",
              "      <td>74.438497</td>\n",
              "      <td>54.162347</td>\n",
              "      <td>105.067356</td>\n",
              "      <td>29.701211</td>\n",
              "      <td>0</td>\n",
              "      <td>0</td>\n",
              "    </tr>\n",
              "    <tr>\n",
              "      <th>2</th>\n",
              "      <td>47.744679</td>\n",
              "      <td>12.089351</td>\n",
              "      <td>39.000000</td>\n",
              "      <td>35.655328</td>\n",
              "      <td>117.512004</td>\n",
              "      <td>21.682401</td>\n",
              "      <td>0</td>\n",
              "      <td>0</td>\n",
              "    </tr>\n",
              "    <tr>\n",
              "      <th>3</th>\n",
              "      <td>71.001941</td>\n",
              "      <td>37.515772</td>\n",
              "      <td>84.537093</td>\n",
              "      <td>33.486169</td>\n",
              "      <td>125.164232</td>\n",
              "      <td>67.771190</td>\n",
              "      <td>0</td>\n",
              "      <td>0</td>\n",
              "    </tr>\n",
              "    <tr>\n",
              "      <th>4</th>\n",
              "      <td>70.676898</td>\n",
              "      <td>21.704402</td>\n",
              "      <td>59.181161</td>\n",
              "      <td>48.972496</td>\n",
              "      <td>103.008355</td>\n",
              "      <td>27.810148</td>\n",
              "      <td>0</td>\n",
              "      <td>0</td>\n",
              "    </tr>\n",
              "  </tbody>\n",
              "</table>\n",
              "</div>"
            ],
            "text/plain": [
              "   pelvic_incidence  pelvic_tilt numeric  ...  class  PRED_class\n",
              "0         64.809541            15.174078  ...      0           0\n",
              "1         69.563486            15.401139  ...      0           0\n",
              "2         47.744679            12.089351  ...      0           0\n",
              "3         71.001941            37.515772  ...      0           0\n",
              "4         70.676898            21.704402  ...      0           0\n",
              "\n",
              "[5 rows x 8 columns]"
            ]
          },
          "metadata": {},
          "execution_count": 61
        }
      ]
    },
    {
      "cell_type": "code",
      "metadata": {
        "colab": {
          "base_uri": "https://localhost:8080/",
          "height": 338
        },
        "id": "5qv9qn5yrVrM",
        "outputId": "24beafe7-ba4f-4612-84ef-25d48b985fed"
      },
      "source": [
        "from sklearn.metrics import confusion_matrix\n",
        "cm=confusion_matrix(y_test,y_pred)\n",
        "plt.figure(figsize=(6,5))\n",
        "sns.heatmap(cm,annot=True)\n",
        "plt.ylabel(\"True Label\")\n",
        "plt.xlabel(\"Predicted label\")\n",
        "plt.show()"
      ],
      "execution_count": 62,
      "outputs": [
        {
          "output_type": "display_data",
          "data": {
            "image/png": "[encoded data removed]",
            "text/plain": [
              "<Figure size 432x360 with 2 Axes>"
            ]
          },
          "metadata": {
            "needs_background": "light"
          }
        }
      ]
    },
    {
      "cell_type": "code",
      "metadata": {
        "colab": {
          "base_uri": "https://localhost:8080/"
        },
        "id": "66YdnIfDr1xQ",
        "outputId": "6e09a94b-29bc-4616-e69e-f51b16d673e9"
      },
      "source": [
        "from sklearn.metrics import accuracy_score\n",
        "print(\"The Accuracy of the NB is {}%\".format(round(accuracy_score(y_pred,y_test)*100,2)))\n"
      ],
      "execution_count": 63,
      "outputs": [
        {
          "output_type": "stream",
          "name": "stdout",
          "text": [
            "The Accuracy of the NB is 82.8%\n"
          ]
        }
      ]
    }
  ]
}